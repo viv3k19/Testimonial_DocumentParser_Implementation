{
  "cells": [
    {
      "cell_type": "markdown",
      "id": "43282029-f74e-4963-9fef-714c0eda1fe4",
      "metadata": {
        "tags": [],
        "id": "43282029-f74e-4963-9fef-714c0eda1fe4"
      },
      "source": [
        "## Nanonets"
      ]
    },
    {
      "cell_type": "code",
      "execution_count": 14,
      "id": "97a38443-fb3d-45c1-9fc7-cdf5e1e921b3",
      "metadata": {
        "colab": {
          "base_uri": "https://localhost:8080/"
        },
        "id": "97a38443-fb3d-45c1-9fc7-cdf5e1e921b3",
        "outputId": "d9e6e4b1-f303-4a7c-a860-73cf96207db6"
      },
      "outputs": [
        {
          "output_type": "stream",
          "name": "stdout",
          "text": [
            "Requirement already satisfied: ocr-nanonets-wrapper in /usr/local/lib/python3.10/dist-packages (1.1)\n",
            "Requirement already satisfied: requests in /usr/local/lib/python3.10/dist-packages (from ocr-nanonets-wrapper) (2.32.3)\n",
            "Requirement already satisfied: fpdf in /usr/local/lib/python3.10/dist-packages (from ocr-nanonets-wrapper) (1.7.2)\n",
            "Requirement already satisfied: numpy in /usr/local/lib/python3.10/dist-packages (from ocr-nanonets-wrapper) (1.26.4)\n",
            "Requirement already satisfied: pandas in /usr/local/lib/python3.10/dist-packages (from ocr-nanonets-wrapper) (2.1.4)\n",
            "Requirement already satisfied: python-dateutil>=2.8.2 in /usr/local/lib/python3.10/dist-packages (from pandas->ocr-nanonets-wrapper) (2.8.2)\n",
            "Requirement already satisfied: pytz>=2020.1 in /usr/local/lib/python3.10/dist-packages (from pandas->ocr-nanonets-wrapper) (2024.1)\n",
            "Requirement already satisfied: tzdata>=2022.1 in /usr/local/lib/python3.10/dist-packages (from pandas->ocr-nanonets-wrapper) (2024.1)\n",
            "Requirement already satisfied: charset-normalizer<4,>=2 in /usr/local/lib/python3.10/dist-packages (from requests->ocr-nanonets-wrapper) (3.3.2)\n",
            "Requirement already satisfied: idna<4,>=2.5 in /usr/local/lib/python3.10/dist-packages (from requests->ocr-nanonets-wrapper) (3.7)\n",
            "Requirement already satisfied: urllib3<3,>=1.21.1 in /usr/local/lib/python3.10/dist-packages (from requests->ocr-nanonets-wrapper) (2.0.7)\n",
            "Requirement already satisfied: certifi>=2017.4.17 in /usr/local/lib/python3.10/dist-packages (from requests->ocr-nanonets-wrapper) (2024.7.4)\n",
            "Requirement already satisfied: six>=1.5 in /usr/local/lib/python3.10/dist-packages (from python-dateutil>=2.8.2->pandas->ocr-nanonets-wrapper) (1.16.0)\n"
          ]
        }
      ],
      "source": [
        "!pip install ocr-nanonets-wrapper\n",
        "from nanonets import NANONETSOCR\n",
        "model = NANONETSOCR()"
      ]
    },
    {
      "cell_type": "markdown",
      "id": "19fdd536-b738-4f2f-a2b2-08f527ade30a",
      "metadata": {
        "id": "19fdd536-b738-4f2f-a2b2-08f527ade30a"
      },
      "source": [
        "### Authenticate using API Key\n",
        "\n",
        "- You can get your free API key (with unlimited requests) by creating a free account on [https://app.nanonets.com/#/keys](https://app.nanonets.com/#/keys?utm_source=wrapper)"
      ]
    },
    {
      "cell_type": "code",
      "execution_count": 15,
      "id": "f077ce79-8274-4ef8-8f02-8f4ce98603af",
      "metadata": {
        "id": "f077ce79-8274-4ef8-8f02-8f4ce98603af"
      },
      "outputs": [],
      "source": [
        "model.set_token('d6fdc799-5806-11ef-909f-1676875ee840')"
      ]
    },
    {
      "cell_type": "markdown",
      "id": "181db04e-c555-4202-ace5-0f3c91d78165",
      "metadata": {
        "id": "181db04e-c555-4202-ace5-0f3c91d78165"
      },
      "source": [
        "### pdf/image to String\n"
      ]
    },
    {
      "cell_type": "code",
      "execution_count": 16,
      "id": "9c856a83-8c4c-4c38-b9ea-f30daff62d26",
      "metadata": {
        "colab": {
          "base_uri": "https://localhost:8080/"
        },
        "id": "9c856a83-8c4c-4c38-b9ea-f30daff62d26",
        "outputId": "87c379e0-ecfa-4355-b56f-091a856f6aa1"
      },
      "outputs": [
        {
          "output_type": "stream",
          "name": "stdout",
          "text": [
            "                                                                                                                                                                                          Ch\n",
            "                                                                                                                                                                                                                      John Thurston\n",
            "                                                                                                                                                                                                         Arkansas Secretary of State\n",
            "                                                                                                                                                                                                              Business and Commerclal Services Divislon\n",
            "\n",
            "\n",
            "\n",
            "                                                                                                                                                                                                   Financing Statement   Initial\n",
            "\n",
            "                  UCC FINANCING STATEMENT                                                                                     Date Filed:11/20/2023 9:37 AM               Page(s):1\n",
            "                  FOLLOW INSTRUCTIONS\n",
            "                   A. NAME & PHONE OF CONTACT                                                                                                                                        Filing ID          :4000028037756\n",
            "                                                                         AT FILER 1 optional                                                                                                          Document ID :17503743001\n",
            "\n",
            "\n",
            "                  B. E -MAIL CONTACT AT FILEF (optiona\n",
            "\n",
            "\n",
            "                   C. SEND ACKNOWLEDGMENT TO     Name and Address\n",
            "                             118616\n",
            "\n",
            "\n",
            "                             FIRST COMMUNITY BANK\n",
            "                             1325 HARRISON ST\n",
            "                      I      BATESVILLE. AR 72501\n",
            "\n",
            "                                                                                                                                                                          THE ABOVE SPACE IS FOR FILING OFFICE USE ONLY\n",
            "                  1. DEBTOR'S NAME    Provide only one Debtor name (1a or 1h (use exact full name do not omit modify or abbreviate any part of the Debtor 's name) if any part of the Individual Debtor's\n",
            "                      name will not fit in line 1b. leave all of item    blank check here   I      and provide the Individual Debtor informatior in item 10 of the Financing Statement Addendum Form UCC1Ad\n",
            "                        1a ORGANIZATION S NAME\n",
            "\n",
            "                  OR 1b. INDIVIDUAI 'S SURNAM                                                                    FIRST PERSONAL NAM                                 ADDITIONAI NAME(S VINITIALS         SUFFIX\n",
            "\n",
            "                         HUEBNER                                                                             RICHIE                                             HICKS\n",
            "                  1c MAII ING ADDRESS                                                                                 CITY                                                             STAT     POSTAL CODE                  COUNTRY\n",
            "                    12282 N RIGGS                                                                     LEAD HILL                                 AR      72644                          USA\n",
            "\n",
            "                  2. DEBTOR'S NAME   Provide only one Debtor name 2a or 2b (use exact. full name do not omit modity or abbreviate any part of the Debtor's name if any part of the Individual Debtor's\n",
            "                       name will not fi in line 2b leave all of item 2 blank check here         and provide the Individual Debtor information in item 10 of the Financing Statement Addendum (Form UCC1Ac\n",
            "                       2a. ORGANIZAT ION 'S NAME\n",
            "\n",
            "                  OF 2b. INDIVIDUAI 'S SURNAME                                                                     FIRST PERSONAI NAME                                  ADDITIONAI NAMF/S VINITIAL (s         SUFFIX\n",
            "\n",
            "\n",
            "                  2c MAILING ADDRESS                                                                                  CITY                                                             STAT     POSTAI CODE                  COUNTRY\n",
            "\n",
            "\n",
            "                  3. SECURED PARTY'S NAME (or NAM of ASSIGNE of ASS IGNOR SECURED PARTY)   Provide only one Secured Party name (3a or 3b\n",
            "                         3a ORGANIZATION'S NAME\n",
            "                         FIRST COMMUNITY BANK\n",
            "                  OR   3b. IND VIDUAL'S SURNAME                                                                     FIRST PERSONAL NAME                                 ADDITIONAL NAME/SI/INIT ALIS         SUFFIX\n",
            "\n",
            "\n",
            "                  3c. MAII ING ADDRESS                                                                                  CITY                                                             STATE    POSTAL COD                   COUNTRY\n",
            "                    PO   BOX 4330                                                                           BATESVILLE                           AR      72503                          USA\n",
            "                  4.COLLATERAL   This financing statement covers the following collatera\n",
            "                    2023 MERCURY 250 HP MOTOR SN | 3B211291, PLUS ANY AND ALL PARTS, ATTACHMENTS OR ACCESSIONS\n",
            "                    THERETO : WHETHER ANY OF THE FOREGOING IS OWNED NOW ORACQUIRED LATER : ALL. ACCESSIONS\n",
            "                    ADDITIONS, REPLA ACEMENTS, AND SUBSTITUTIONS RELATING TOANY OF THE FOREGOING : ALL\n",
            "                    RECORDS OF FANY KIND RELATING TO ANY OF THE FOREGOING : ALL PROCEEDS RELATING TO ANY OF\n",
            "                    THE FOREGOING   INCLUDING INSURANCE, GENERAL INTANGIBLES AND ACCOUNTS PROCEEDS |\n",
            "\n",
            "\n",
            "                    RIGHT OF SETOFF. TO THE EXTENT PERMITTED BY APPLICABLE LAW ,LENDER RESERVES A RIGHT OF\n",
            "                    SETOFF IN ALL GRANTOR'S ACCOUNTS WITH LENDER ( WHETHER CHECKING, SAVINGS, OR SOME OTHER\n",
            "                   ACCOUNT ). THIS INCLUDES ALLACCOUNTS GRANTOR HOLDS JOINTLY WITH SOMEONE ELSE AND ALL\n",
            "                    ACCOUNTS GRANTOR MAY OPEN IN THE FUTURE\n",
            "\n",
            "\n",
            "\n",
            "\n",
            "\n",
            "\n",
            "                  5. Check only if applicable and check only one box Collateral is       held in a Trust ( see UCC1Ad. item 17 and Instructions           being administerec by a Decedent's Personal Representative\n",
            "                  6a. Check only if applicable and check only one box                                                                                                       6b. Check only if applicable and check only one box\n",
            "                              Public Finance Transactior               Manufactured Home Transaction         | | Debtor is a Transmitting Utility                     Agricultural Lien             Nor UCO Filing\n",
            "                  7. ALTERNATIVE DESIGNATION (if applicable             Lessee/Lessor                  Consignee/Consignor                  Seller/Buyer                 Bailee/Bailor                  Licensee/Licensor\n",
            "                  8 OPTIONAL FILER REFERENCE DATA\n",
            "                    1116170\n",
            "\n",
            "                                                                                                                                                                        International Association of Commercial Administrators (IACA\n",
            "                 FILING OFFICE COPY I UCO FINANCI ING STATEMENT Form UCC     Rev 04/20/11\n"
          ]
        }
      ],
      "source": [
        "string1 = model.convert_to_string('/content/4000028037756.tiff')\n",
        "print(string1)"
      ]
    },
    {
      "cell_type": "markdown",
      "source": [
        "### Formating Lines"
      ],
      "metadata": {
        "id": "nAznDv4Dhbh_"
      },
      "id": "nAznDv4Dhbh_"
    },
    {
      "cell_type": "code",
      "execution_count": 17,
      "id": "f76d5f84-1fc3-42e6-ab97-f229a15d49e0",
      "metadata": {
        "colab": {
          "base_uri": "https://localhost:8080/"
        },
        "id": "f76d5f84-1fc3-42e6-ab97-f229a15d49e0",
        "outputId": "fab8f61e-30e3-48f7-fcb1-452b6b7e3107"
      },
      "outputs": [
        {
          "output_type": "stream",
          "name": "stdout",
          "text": [
            "Ch\n",
            "John Thurston\n",
            "Arkansas Secretary of State\n",
            "Business and Commerclal Services Divislon\n",
            "Financing Statement Initial\n",
            "UCC FINANCING STATEMENT Date Filed:11/20/2023 9:37 AM Page(s):1\n",
            "FOLLOW INSTRUCTIONS\n",
            "A. NAME & PHONE OF CONTACT Filing ID :4000028037756\n",
            "AT FILER 1 optional Document ID :17503743001\n",
            "B. E -MAIL CONTACT AT FILEF (optiona\n",
            "C. SEND ACKNOWLEDGMENT TO Name and Address\n",
            "118616\n",
            "FIRST COMMUNITY BANK\n",
            "1325 HARRISON ST\n",
            "I BATESVILLE. AR 72501\n",
            "THE ABOVE SPACE IS FOR FILING OFFICE USE ONLY\n",
            "1. DEBTOR'S NAME Provide only one Debtor name (1a or 1h (use exact full name do not omit modify or abbreviate any part of the Debtor 's name) if any part of the Individual Debtor's\n",
            "name will not fit in line 1b. leave all of item blank check here I and provide the Individual Debtor informatior in item 10 of the Financing Statement Addendum Form UCC1Ad\n",
            "1a ORGANIZATION S NAME\n",
            "OR 1b. INDIVIDUAI 'S SURNAM FIRST PERSONAL NAM ADDITIONAI NAME(S VINITIALS SUFFIX\n",
            "HUEBNER RICHIE HICKS\n",
            "1c MAII ING ADDRESS CITY STAT POSTAL CODE COUNTRY\n",
            "12282 N RIGGS LEAD HILL AR 72644 USA\n",
            "2. DEBTOR'S NAME Provide only one Debtor name 2a or 2b (use exact. full name do not omit modity or abbreviate any part of the Debtor's name if any part of the Individual Debtor's\n",
            "name will not fi in line 2b leave all of item 2 blank check here and provide the Individual Debtor information in item 10 of the Financing Statement Addendum (Form UCC1Ac\n",
            "2a. ORGANIZAT ION 'S NAME\n",
            "OF 2b. INDIVIDUAI 'S SURNAME FIRST PERSONAI NAME ADDITIONAI NAMF/S VINITIAL (s SUFFIX\n",
            "2c MAILING ADDRESS CITY STAT POSTAI CODE COUNTRY\n",
            "3. SECURED PARTY'S NAME (or NAM of ASSIGNE of ASS IGNOR SECURED PARTY) Provide only one Secured Party name (3a or 3b\n",
            "3a ORGANIZATION'S NAME\n",
            "FIRST COMMUNITY BANK\n",
            "OR 3b. IND VIDUAL'S SURNAME FIRST PERSONAL NAME ADDITIONAL NAME/SI/INIT ALIS SUFFIX\n",
            "3c. MAII ING ADDRESS CITY STATE POSTAL COD COUNTRY\n",
            "PO BOX 4330 BATESVILLE AR 72503 USA\n",
            "4.COLLATERAL This financing statement covers the following collatera\n",
            "2023 MERCURY 250 HP MOTOR SN | 3B211291, PLUS ANY AND ALL PARTS, ATTACHMENTS OR ACCESSIONS\n",
            "THERETO : WHETHER ANY OF THE FOREGOING IS OWNED NOW ORACQUIRED LATER : ALL. ACCESSIONS\n",
            "ADDITIONS, REPLA ACEMENTS, AND SUBSTITUTIONS RELATING TOANY OF THE FOREGOING : ALL\n",
            "RECORDS OF FANY KIND RELATING TO ANY OF THE FOREGOING : ALL PROCEEDS RELATING TO ANY OF\n",
            "THE FOREGOING INCLUDING INSURANCE, GENERAL INTANGIBLES AND ACCOUNTS PROCEEDS |\n",
            "RIGHT OF SETOFF. TO THE EXTENT PERMITTED BY APPLICABLE LAW ,LENDER RESERVES A RIGHT OF\n",
            "SETOFF IN ALL GRANTOR'S ACCOUNTS WITH LENDER ( WHETHER CHECKING, SAVINGS, OR SOME OTHER\n",
            "ACCOUNT ). THIS INCLUDES ALLACCOUNTS GRANTOR HOLDS JOINTLY WITH SOMEONE ELSE AND ALL\n",
            "ACCOUNTS GRANTOR MAY OPEN IN THE FUTURE\n",
            "5. Check only if applicable and check only one box Collateral is held in a Trust ( see UCC1Ad. item 17 and Instructions being administerec by a Decedent's Personal Representative\n",
            "6a. Check only if applicable and check only one box 6b. Check only if applicable and check only one box\n",
            "Public Finance Transactior Manufactured Home Transaction | | Debtor is a Transmitting Utility Agricultural Lien Nor UCO Filing\n",
            "7. ALTERNATIVE DESIGNATION (if applicable Lessee/Lessor Consignee/Consignor Seller/Buyer Bailee/Bailor Licensee/Licensor\n",
            "8 OPTIONAL FILER REFERENCE DATA\n",
            "1116170\n",
            "International Association of Commercial Administrators (IACA\n",
            "FILING OFFICE COPY I UCO FINANCI ING STATEMENT Form UCC Rev 04/20/11\n"
          ]
        }
      ],
      "source": [
        "string2 = model.convert_to_string('/content/4000028037756.tiff', formatting='lines')\n",
        "print(string2)"
      ]
    },
    {
      "cell_type": "markdown",
      "source": [
        "### Formating None"
      ],
      "metadata": {
        "id": "hh734xsyhQJI"
      },
      "id": "hh734xsyhQJI"
    },
    {
      "cell_type": "code",
      "execution_count": 18,
      "id": "a53f30db-d179-414e-ab38-51fc853ba1cb",
      "metadata": {
        "colab": {
          "base_uri": "https://localhost:8080/"
        },
        "id": "a53f30db-d179-414e-ab38-51fc853ba1cb",
        "outputId": "b227e377-7c8f-45c7-d1c2-3de711d4b569"
      },
      "outputs": [
        {
          "output_type": "stream",
          "name": "stdout",
          "text": [
            "Ch John Thurston Arkansas Secretary of State Business and Commerclal Services Divislon Financing Statement Initial UCC FINANCING STATEMENT Date Filed:11/20/2023 9:37 AM Page(s):1 FOLLOW INSTRUCTIONS A. NAME & PHONE OF CONTACT Filing ID :4000028037756 AT FILER 1 optional Document ID :17503743001 B. E -MAIL CONTACT AT FILEF (optiona C. SEND ACKNOWLEDGMENT TO Name and Address 118616 FIRST COMMUNITY BANK 1325 HARRISON ST I BATESVILLE. AR 72501 THE ABOVE SPACE IS FOR FILING OFFICE USE ONLY 1. DEBTOR'S NAME Provide only one Debtor name (1a or 1h (use exact full name do not omit modify or abbreviate any part of the Debtor 's name) if any part of the Individual Debtor's name will not fit in line 1b. leave all of item blank check here I and provide the Individual Debtor informatior in item 10 of the Financing Statement Addendum Form UCC1Ad 1a ORGANIZATION S NAME OR 1b. INDIVIDUAI 'S SURNAM FIRST PERSONAL NAM ADDITIONAI NAME(S VINITIALS SUFFIX HUEBNER RICHIE HICKS 1c MAII ING ADDRESS CITY STAT POSTAL CODE COUNTRY 12282 N RIGGS LEAD HILL AR 72644 USA 2. DEBTOR'S NAME Provide only one Debtor name 2a or 2b (use exact. full name do not omit modity or abbreviate any part of the Debtor's name if any part of the Individual Debtor's name will not fi in line 2b leave all of item 2 blank check here and provide the Individual Debtor information in item 10 of the Financing Statement Addendum (Form UCC1Ac 2a. ORGANIZAT ION 'S NAME OF 2b. INDIVIDUAI 'S SURNAME FIRST PERSONAI NAME ADDITIONAI NAMF/S VINITIAL (s SUFFIX 2c MAILING ADDRESS CITY STAT POSTAI CODE COUNTRY 3. SECURED PARTY'S NAME (or NAM of ASSIGNE of ASS IGNOR SECURED PARTY) Provide only one Secured Party name (3a or 3b 3a ORGANIZATION'S NAME FIRST COMMUNITY BANK OR 3b. IND VIDUAL'S SURNAME FIRST PERSONAL NAME ADDITIONAL NAME/SI/INIT ALIS SUFFIX 3c. MAII ING ADDRESS CITY STATE POSTAL COD COUNTRY PO BOX 4330 BATESVILLE AR 72503 USA 4.COLLATERAL This financing statement covers the following collatera 2023 MERCURY 250 HP MOTOR SN | 3B211291, PLUS ANY AND ALL PARTS, ATTACHMENTS OR ACCESSIONS THERETO : WHETHER ANY OF THE FOREGOING IS OWNED NOW ORACQUIRED LATER : ALL. ACCESSIONS ADDITIONS, REPLA ACEMENTS, AND SUBSTITUTIONS RELATING TOANY OF THE FOREGOING : ALL RECORDS OF FANY KIND RELATING TO ANY OF THE FOREGOING : ALL PROCEEDS RELATING TO ANY OF THE FOREGOING INCLUDING INSURANCE, GENERAL INTANGIBLES AND ACCOUNTS PROCEEDS | RIGHT OF SETOFF. TO THE EXTENT PERMITTED BY APPLICABLE LAW ,LENDER RESERVES A RIGHT OF SETOFF IN ALL GRANTOR'S ACCOUNTS WITH LENDER ( WHETHER CHECKING, SAVINGS, OR SOME OTHER ACCOUNT ). THIS INCLUDES ALLACCOUNTS GRANTOR HOLDS JOINTLY WITH SOMEONE ELSE AND ALL ACCOUNTS GRANTOR MAY OPEN IN THE FUTURE 5. Check only if applicable and check only one box Collateral is held in a Trust ( see UCC1Ad. item 17 and Instructions being administerec by a Decedent's Personal Representative 6a. Check only if applicable and check only one box 6b. Check only if applicable and check only one box Public Finance Transactior Manufactured Home Transaction | | Debtor is a Transmitting Utility Agricultural Lien Nor UCO Filing 7. ALTERNATIVE DESIGNATION (if applicable Lessee/Lessor Consignee/Consignor Seller/Buyer Bailee/Bailor Licensee/Licensor 8 OPTIONAL FILER REFERENCE DATA 1116170 International Association of Commercial Administrators (IACA FILING OFFICE COPY I UCO FINANCI ING STATEMENT Form UCC Rev 04/20/11 \n"
          ]
        }
      ],
      "source": [
        "string3 = model.convert_to_string('/content/4000028037756.tiff', formatting='none')\n",
        "print(string3)\n"
      ]
    },
    {
      "cell_type": "markdown",
      "source": [
        "### Converting Text to JSON"
      ],
      "metadata": {
        "id": "XjmWhwKgxsQy"
      },
      "id": "XjmWhwKgxsQy"
    },
    {
      "cell_type": "code",
      "source": [
        "import re\n",
        "import json\n",
        "\n",
        "# Define the patterns dynamically\n",
        "patterns = {\n",
        "    'filing_id': r'Filing\\s+ID\\s*[:\\-]?\\s*(\\d+)',\n",
        "    'date_filed': r'Date\\s+Filed\\s*[:\\-]?\\s*([0-9\\/:\\sAPM]+)',\n",
        "    'contact_name': r'Contact\\s+Name\\s*[:\\-]?\\s*([A-Z\\s]+)',\n",
        "    'contact_title': r'Contact\\s+Title\\s*[:\\-]?\\s*([A-Za-z\\s]+)',\n",
        "    'contact_division': r'Division\\s*[:\\-]?\\s*([A-Za-z\\s]+)',\n",
        "    'document_id': r'Document\\s+ID\\s*[:\\-]?\\s*(\\d+)',\n",
        "    'acknowledgment_to_name': r'Acknowledgment\\s+To\\s*[:\\-]?\\s*([A-Z\\s]+)',\n",
        "    'acknowledgment_to_address': r'Address\\s*[:\\-]?\\s*([A-Z0-9,\\s]+)',\n",
        "    'initial_financing_statement_file_number': r'Initial\\s+Financing\\s+Statement\\s+File\\s+Number\\s*[:\\-]?\\s*(\\d+)',\n",
        "    'amendment_type': r'Amendment\\s+Type\\s*[:\\-]?\\s*(\\w+)',\n",
        "    'effectiveness_terminated': r'Effectiveness\\s+Terminated\\s*[:\\-]?\\s*(true|false)',\n",
        "    'termination_authorized_by': r'Termination\\s+Authorized\\s+By\\s*[:\\-]?\\s*([A-Za-z\\s]+)',\n",
        "    'collateral_description': r'Collateral\\s*[:\\-]?\\s*(.*?)(?:\\n\\s*\\n|$)',\n",
        "    'optional_filer_reference_data': r'Optional\\s+Filer\\s+Reference\\s+Data\\s*[:\\-]?\\s*(.*)'\n",
        "}\n",
        "\n",
        "def extract_data(text, patterns):\n",
        "    extracted_data = {}\n",
        "\n",
        "    for key, pattern in patterns.items():\n",
        "        match = re.search(pattern, text, re.DOTALL)\n",
        "        if match:\n",
        "            extracted_data[key] = match.group(1).strip()\n",
        "        else:\n",
        "            extracted_data[key] = None\n",
        "\n",
        "    return extracted_data\n",
        "\n",
        "def build_json_structure(extracted_data):\n",
        "    json_data = {\n",
        "        \"Filing_ID\": extracted_data.get('filing_id'),\n",
        "        \"Date_Filed\": extracted_data.get('date_filed'),\n",
        "        \"Contact\": {\n",
        "            \"Name\": extracted_data.get('contact_name'),\n",
        "            \"Title\": extracted_data.get('contact_title'),\n",
        "            \"Division\": extracted_data.get('contact_division')\n",
        "        },\n",
        "        \"Document_ID\": extracted_data.get('document_id'),\n",
        "        \"Acknowledgment_To\": {\n",
        "            \"Name\": extracted_data.get('acknowledgment_to_name'),\n",
        "            \"Address\": extracted_data.get('acknowledgment_to_address')\n",
        "        },\n",
        "        \"Initial_Financing_Statement_File_Number\": extracted_data.get('initial_financing_statement_file_number'),\n",
        "        \"Amendment_Type\": extracted_data.get('amendment_type'),\n",
        "        \"Effectiveness_Terminated\": extracted_data.get('effectiveness_terminated') == 'true',\n",
        "        \"Termination_Authorized_By\": extracted_data.get('termination_authorized_by'),\n",
        "        \"Party_Information_Change\": {\n",
        "            \"Affects\": None,\n",
        "            \"Current_Record_Information\": {\n",
        "                \"Organization_Name\": None,\n",
        "                \"Individual_Name\": {\n",
        "                    \"Surname\": None,\n",
        "                    \"First_Name\": None,\n",
        "                    \"Additional_Name\": None,\n",
        "                    \"Suffix\": None\n",
        "                }\n",
        "            },\n",
        "            \"Changed_Or_Added_Information\": {\n",
        "                \"Organization_Name\": None,\n",
        "                \"Individual_Name\": {\n",
        "                    \"Surname\": None,\n",
        "                    \"First_Name\": None,\n",
        "                    \"Additional_Name\": None,\n",
        "                    \"Suffix\": None\n",
        "                },\n",
        "                \"Mailing_Address\": {\n",
        "                    \"Street\": None,\n",
        "                    \"City\": None,\n",
        "                    \"State\": None,\n",
        "                    \"Postal_Code\": None,\n",
        "                    \"Country\": None\n",
        "                }\n",
        "            }\n",
        "        },\n",
        "        \"Collateral_Change\": {\n",
        "            \"Add_Collateral\": False,\n",
        "            \"Delete_Collateral\": False,\n",
        "            \"Restate_Collateral\": False,\n",
        "            \"Assign_Collateral\": False,\n",
        "            \"Collateral_Details\": None\n",
        "        },\n",
        "        \"Secured_Party_Of_Record_Authorizing\": {\n",
        "            \"Organization_Name\": None,\n",
        "            \"Individual_Name\": {\n",
        "                \"Surname\": None,\n",
        "                \"First_Name\": None,\n",
        "                \"Additional_Name\": None,\n",
        "                \"Suffix\": None\n",
        "            }\n",
        "        },\n",
        "        \"Collateral\": [\n",
        "            {\n",
        "                \"Description\": extracted_data.get('collateral_description'),\n",
        "                \"Right_Of_Setoff\": None\n",
        "            }\n",
        "        ],\n",
        "        \"Optional_Filer_Reference_Data\": extracted_data.get('optional_filer_reference_data'),\n",
        "        \"Alternative_Designation\": None\n",
        "    }\n",
        "\n",
        "    # Remove keys with None values\n",
        "    json_data = {k: v for k, v in json_data.items() if v is not None}\n",
        "\n",
        "    # Remove None values from nested dictionaries\n",
        "    for k, v in json_data.items():\n",
        "        if isinstance(v, dict):\n",
        "            json_data[k] = {nk: nv for nk, nv in v.items() if nv is not None}\n",
        "        elif isinstance(v, list):\n",
        "            json_data[k] = [{nk: nv for nk, nv in nv.items() if nv is not None} for nv in v if nv]\n",
        "\n",
        "    return json_data\n",
        "\n",
        "# Example usage\n",
        "\n",
        "extracted_data = extract_data(string2, patterns)\n",
        "json_data = build_json_structure(extracted_data)\n",
        "\n",
        "# Convert to JSON\n",
        "json_output = json.dumps(json_data, indent=4)\n",
        "print(json_output)\n"
      ],
      "metadata": {
        "colab": {
          "base_uri": "https://localhost:8080/"
        },
        "id": "SD7BtcvDwCbx",
        "outputId": "a5aae165-8a67-41e7-87e9-fed7b54152f2"
      },
      "id": "SD7BtcvDwCbx",
      "execution_count": 20,
      "outputs": [
        {
          "output_type": "stream",
          "name": "stdout",
          "text": [
            "{\n",
            "    \"Filing_ID\": \"4000028037756\",\n",
            "    \"Date_Filed\": \"11/20/2023 9:37 AM P\",\n",
            "    \"Contact\": {},\n",
            "    \"Document_ID\": \"17503743001\",\n",
            "    \"Acknowledgment_To\": {\n",
            "        \"Address\": \"118616\\nFIRST COMMUNITY BANK\\n1325 HARRISON ST\\nI BATESVILLE\"\n",
            "    },\n",
            "    \"Effectiveness_Terminated\": false,\n",
            "    \"Party_Information_Change\": {\n",
            "        \"Current_Record_Information\": {\n",
            "            \"Organization_Name\": null,\n",
            "            \"Individual_Name\": {\n",
            "                \"Surname\": null,\n",
            "                \"First_Name\": null,\n",
            "                \"Additional_Name\": null,\n",
            "                \"Suffix\": null\n",
            "            }\n",
            "        },\n",
            "        \"Changed_Or_Added_Information\": {\n",
            "            \"Organization_Name\": null,\n",
            "            \"Individual_Name\": {\n",
            "                \"Surname\": null,\n",
            "                \"First_Name\": null,\n",
            "                \"Additional_Name\": null,\n",
            "                \"Suffix\": null\n",
            "            },\n",
            "            \"Mailing_Address\": {\n",
            "                \"Street\": null,\n",
            "                \"City\": null,\n",
            "                \"State\": null,\n",
            "                \"Postal_Code\": null,\n",
            "                \"Country\": null\n",
            "            }\n",
            "        }\n",
            "    },\n",
            "    \"Collateral_Change\": {\n",
            "        \"Add_Collateral\": false,\n",
            "        \"Delete_Collateral\": false,\n",
            "        \"Restate_Collateral\": false,\n",
            "        \"Assign_Collateral\": false\n",
            "    },\n",
            "    \"Secured_Party_Of_Record_Authorizing\": {\n",
            "        \"Individual_Name\": {\n",
            "            \"Surname\": null,\n",
            "            \"First_Name\": null,\n",
            "            \"Additional_Name\": null,\n",
            "            \"Suffix\": null\n",
            "        }\n",
            "    },\n",
            "    \"Collateral\": [\n",
            "        {\n",
            "            \"Description\": \"is held in a Trust ( see UCC1Ad. item 17 and Instructions being administerec by a Decedent's Personal Representative\\n6a. Check only if applicable and check only one box 6b. Check only if applicable and check only one box\\nPublic Finance Transactior Manufactured Home Transaction | | Debtor is a Transmitting Utility Agricultural Lien Nor UCO Filing\\n7. ALTERNATIVE DESIGNATION (if applicable Lessee/Lessor Consignee/Consignor Seller/Buyer Bailee/Bailor Licensee/Licensor\\n8 OPTIONAL FILER REFERENCE DATA\\n1116170\\nInternational Association of Commercial Administrators (IACA\\nFILING OFFICE COPY I UCO FINANCI ING STATEMENT Form UCC Rev 04/20/11\"\n",
            "        }\n",
            "    ]\n",
            "}\n"
          ]
        }
      ]
    }
  ],
  "metadata": {
    "kernelspec": {
      "display_name": "Python 3 (ipykernel)",
      "language": "python",
      "name": "python3"
    },
    "language_info": {
      "codemirror_mode": {
        "name": "ipython",
        "version": 3
      },
      "file_extension": ".py",
      "mimetype": "text/x-python",
      "name": "python",
      "nbconvert_exporter": "python",
      "pygments_lexer": "ipython3",
      "version": "3.9.13"
    },
    "colab": {
      "provenance": []
    }
  },
  "nbformat": 4,
  "nbformat_minor": 5
}