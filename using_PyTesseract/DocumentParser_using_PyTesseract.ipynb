{
  "nbformat": 4,
  "nbformat_minor": 0,
  "metadata": {
    "colab": {
      "provenance": []
    },
    "kernelspec": {
      "name": "python3",
      "display_name": "Python 3"
    },
    "language_info": {
      "name": "python"
    }
  },
  "cells": [
    {
      "cell_type": "code",
      "source": [
        "!pip install pytesseract\n",
        "!sudo apt install tesseract-ocr\n",
        "import pytesseract\n",
        "from PIL import Image\n",
        "import re\n",
        "import json\n",
        "\n",
        "def parse_document(image_path):\n",
        "    # Open the image using PIL\n",
        "    image = Image.open(image_path)\n",
        "\n",
        "    # Use pytesseract to extract text\n",
        "    text = pytesseract.image_to_string(image)\n",
        "\n",
        "    # Define regular expressions to extract information\n",
        "    data = {\n",
        "        \"filing_id\": re.search(r\"Filing ID\\s*:\\s*(\\d+)\", text),\n",
        "        \"document_id\": re.search(r\"Document ID\\s*:\\s*(\\d+)\", text),\n",
        "        \"bank_name\": \"FIRST COMMUNITY BANK\" if \"FIRST COMMUNITY BANK\" in text else None,\n",
        "        \"debtor\": {\n",
        "            \"name\": re.search(r\"1b\\. INDIVIDUAL'S SURNAME FIRST PERSONAL NAME ADDITIONAL NAME\\(S\\)/INITIAL\\(S\\) SUFFIX\\s+(.+?)\\n\", text),\n",
        "            \"address\": re.search(r\"1c\\. MAILING ADDRESS\\s+(.+?)\\s+(LEAD HILL AR\\s+\\d+ USA)\", text)\n",
        "        },\n",
        "        \"secured_party\": {\n",
        "            \"name\": re.search(r\"3a\\. ORGANIZATION'S NAME\\s+(.+?)\\n\", text),\n",
        "            \"address\": re.search(r\"3c\\. MAILING ADDRESS:\\s+(.+?)\\s+(.+?)\\s+(\\d+ USA)\", text)\n",
        "        },\n",
        "        \"collateral\": re.search(r\"4\\. COLLATERAL:\\s+(.+?)\\n\\n\", text, re.DOTALL)\n",
        "    }\n",
        "\n",
        "    # Extracted values need to be stripped and checked for None\n",
        "    for key, value in data.items():\n",
        "        if isinstance(value, re.Match):\n",
        "            data[key] = value.group(1).strip()\n",
        "        elif isinstance(value, dict):\n",
        "            for sub_key, sub_value in value.items():\n",
        "                if isinstance(sub_value, re.Match):\n",
        "                    value[sub_key] = sub_value.group(1).strip()\n",
        "                else:\n",
        "                    value[sub_key] = None\n",
        "        else:\n",
        "            data[key] = None\n",
        "\n",
        "    return data\n",
        "\n",
        "# Path to the image file\n",
        "image_path = '/content/4000028037756.tiff'\n",
        "\n",
        "# Parse the document and print the result\n",
        "parsed_data = parse_document(image_path)\n",
        "print(json.dumps(parsed_data, indent=4))\n"
      ],
      "metadata": {
        "colab": {
          "base_uri": "https://localhost:8080/"
        },
        "id": "jCpOECvHZSAf",
        "outputId": "d952002b-78e3-4dc4-c837-98b00d44aa75"
      },
      "execution_count": null,
      "outputs": [
        {
          "output_type": "stream",
          "name": "stdout",
          "text": [
            "Requirement already satisfied: pytesseract in /usr/local/lib/python3.10/dist-packages (0.3.10)\n",
            "Requirement already satisfied: packaging>=21.3 in /usr/local/lib/python3.10/dist-packages (from pytesseract) (24.1)\n",
            "Requirement already satisfied: Pillow>=8.0.0 in /usr/local/lib/python3.10/dist-packages (from pytesseract) (9.4.0)\n",
            "Reading package lists... Done\n",
            "Building dependency tree... Done\n",
            "Reading state information... Done\n",
            "tesseract-ocr is already the newest version (4.1.1-2.1build1).\n",
            "0 upgraded, 0 newly installed, 0 to remove and 45 not upgraded.\n",
            "{\n",
            "    \"filing_id\": \"4000028037756\",\n",
            "    \"document_id\": \"17503743001\",\n",
            "    \"bank_name\": null,\n",
            "    \"debtor\": {\n",
            "        \"name\": \"HUEBNER RICHIE HICKS\",\n",
            "        \"address\": null\n",
            "    },\n",
            "    \"secured_party\": {\n",
            "        \"name\": \"FIRST COMMUNITY BANK\",\n",
            "        \"address\": \"CITY STATE |POSTAL CODE COUNTRY\"\n",
            "    },\n",
            "    \"collateral\": \"This financing statement covers the following collateral:\"\n",
            "}\n"
          ]
        }
      ]
    }
  ]
}